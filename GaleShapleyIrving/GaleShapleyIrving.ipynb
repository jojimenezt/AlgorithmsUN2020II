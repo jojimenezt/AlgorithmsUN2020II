{
  "nbformat": 4,
  "nbformat_minor": 0,
  "metadata": {
    "colab": {
      "name": "GaleShapleyIrving.ipynb",
      "provenance": [],
      "toc_visible": true
    },
    "kernelspec": {
      "name": "python3",
      "display_name": "Python 3"
    }
  },
  "cells": [
    {
      "cell_type": "markdown",
      "metadata": {
        "id": "ZSy6KgIoXCZf"
      },
      "source": [
        "# **LAB 9: Gale-Shapley and Irving Algorithms**\n",
        "\n",
        "Jonathan Andrés Jiménez Trujillo\n",
        "\n"
      ]
    },
    {
      "cell_type": "markdown",
      "metadata": {
        "id": "fkkWnrNMHzah"
      },
      "source": [
        "# ***1*** Find the best and worst cases for the Gale-Shapley and Irving ( An Efficient Algorithm for the “Stable Roommates” Problem) Algorithms and run in Colab these algorithms for those cases for n=4 and 40.\n",
        "\n",
        "  Gale–Shapley algorithm simply explained – [towardsdatascience](https://towardsdatascience.com/gale-shapley-algorithm-simply-explained-caa344e643c2)\n",
        "\n",
        "  Stable Marriage Problem – [geeksforgeeks](https://www.geeksforgeeks.org/stable-marriage-problem/)\n",
        "  \n",
        "  Stable matching, as a game – [towardsdatascience.com](https://towardsdatascience.com/stable-matching-as-a-game-a68c279d70b)"
      ]
    },
    {
      "cell_type": "code",
      "metadata": {
        "id": "jLcl5PWTHiex"
      },
      "source": [
        "import pandas as pd\n",
        "import numpy as np\n",
        "import matplotlib.pyplot as plt\n",
        "from collections import Counter\n",
        "from copy import copy\n",
        "import string"
      ],
      "execution_count": 1,
      "outputs": []
    },
    {
      "cell_type": "markdown",
      "metadata": {
        "id": "gOgk1BJC1DQU"
      },
      "source": [
        "## Definicion lista de alfabetos"
      ]
    },
    {
      "cell_type": "code",
      "metadata": {
        "colab": {
          "base_uri": "https://localhost:8080/"
        },
        "id": "haf-mM6e1Lnx",
        "outputId": "5f123c82-543b-4573-f0d9-24b0635d63df"
      },
      "source": [
        "alphabet_string = string.ascii_uppercase\n",
        "alphabet_string2 = string.ascii_lowercase\n",
        "alphabet_list = list(alphabet_string)\n",
        "alphabet_list2 = list(alphabet_string2)\n",
        "a = []\n",
        "a2 = []\n",
        "for letter in alphabet_list:\n",
        "  x = letter+letter\n",
        "  a.append(x)\n",
        "for letter in alphabet_list2:\n",
        "  x = letter+letter\n",
        "  a2.append(x)\n",
        "myAlphabetWomen = alphabet_list + a\n",
        "myAlphabetMen = alphabet_list2 + a2\n",
        "print(myAlphabetWomen)\n",
        "print(myAlphabetMen)"
      ],
      "execution_count": 2,
      "outputs": [
        {
          "output_type": "stream",
          "text": [
            "['A', 'B', 'C', 'D', 'E', 'F', 'G', 'H', 'I', 'J', 'K', 'L', 'M', 'N', 'O', 'P', 'Q', 'R', 'S', 'T', 'U', 'V', 'W', 'X', 'Y', 'Z', 'AA', 'BB', 'CC', 'DD', 'EE', 'FF', 'GG', 'HH', 'II', 'JJ', 'KK', 'LL', 'MM', 'NN', 'OO', 'PP', 'QQ', 'RR', 'SS', 'TT', 'UU', 'VV', 'WW', 'XX', 'YY', 'ZZ']\n",
            "['a', 'b', 'c', 'd', 'e', 'f', 'g', 'h', 'i', 'j', 'k', 'l', 'm', 'n', 'o', 'p', 'q', 'r', 's', 't', 'u', 'v', 'w', 'x', 'y', 'z', 'aa', 'bb', 'cc', 'dd', 'ee', 'ff', 'gg', 'hh', 'ii', 'jj', 'kk', 'll', 'mm', 'nn', 'oo', 'pp', 'qq', 'rr', 'ss', 'tt', 'uu', 'vv', 'ww', 'xx', 'yy', 'zz']\n"
          ],
          "name": "stdout"
        }
      ]
    },
    {
      "cell_type": "markdown",
      "metadata": {
        "id": "nM7dLLwaieOJ"
      },
      "source": [
        "## **Metodo para obtener labels de n hombres y n mujeres**"
      ]
    },
    {
      "cell_type": "code",
      "metadata": {
        "id": "X0DYtyMxidfX"
      },
      "source": [
        "def obtener_hombres(n):\n",
        "  lista = []\n",
        "  for i in range(1,n+1):\n",
        "    s = 'H'\n",
        "    Mi = s+ str(i)\n",
        "    lista.append(Mi)\n",
        "  return lista\n",
        "\n",
        "def obtener_mujeres(n):\n",
        "  lista = []\n",
        "  for i in range(1,n+1):\n",
        "    s = 'M'\n",
        "    Mi = s+ str(i)\n",
        "    lista.append(Mi)\n",
        "  return lista"
      ],
      "execution_count": 3,
      "outputs": []
    },
    {
      "cell_type": "markdown",
      "metadata": {
        "id": "KDNrJrSTiw0b"
      },
      "source": [
        "## **Funciones para crear diccionarios tanto para hombres como mujeres**"
      ]
    },
    {
      "cell_type": "code",
      "metadata": {
        "id": "WyhAqmFJi7YW"
      },
      "source": [
        "def diccionario_mujeres(n,listas):\n",
        "  women_list = obtener_mujeres(n)\n",
        "  d = {} \n",
        "  for i in range(len(women_list)):\n",
        "    d[women_list[i]] = listas[i]\n",
        "  return d\n",
        "\n",
        "def diccionario_hombres(n,listas):\n",
        "  #Trasponer la lista de preferencia, pues es necesario para el dataframe\n",
        "  man_list = obtener_mujeres(n)\n",
        "  listas = list(map(list, zip(*listas)))\n",
        "  d = {}\n",
        "  for i in range(len(man_list)):\n",
        "    d[man_list[i]] = listas[i]\n",
        "  return d"
      ],
      "execution_count": 4,
      "outputs": []
    },
    {
      "cell_type": "markdown",
      "metadata": {
        "id": "KBOIEj9qi4Px"
      },
      "source": [
        "##**Función crear dataframe**\n"
      ]
    },
    {
      "cell_type": "code",
      "metadata": {
        "id": "RcgHuTdwjTIO"
      },
      "source": [
        "def dataframe_mujeres(n,listas):\n",
        "  women_df = pd.DataFrame(diccionario_mujeres(n,listas))\n",
        "  man_list = obtener_hombres(n)\n",
        "  women_df.index = man_list\n",
        "  return women_df\n",
        "\n",
        "def dataframe_hombres(n,listas):\n",
        "  man_df = pd.DataFrame(diccionario_hombres(n,listas))\n",
        "  man_list = obtener_hombres(n)\n",
        "  man_df.index = man_list\n",
        "  return man_df"
      ],
      "execution_count": 5,
      "outputs": []
    },
    {
      "cell_type": "markdown",
      "metadata": {
        "id": "hkz2H5xOYLWJ"
      },
      "source": [
        "## **Algoritmo**\n",
        "\n",
        "El algoritmo de Gale-Shapley fue obtenido de https://towardsdatascience.com/gale-shapley-algorithm-simply-explained-caa344e643c2"
      ]
    },
    {
      "cell_type": "code",
      "metadata": {
        "id": "czA7I7QHJqO9"
      },
      "source": [
        "def gale_shapley(n, preferencias_mujeres, preferencias_hombres):\n",
        "  man_list = obtener_hombres(n)\n",
        "  women_list = obtener_mujeres(n)\n",
        "  women_df = dataframe_mujeres(n,preferencias_mujeres)\n",
        "  man_df = dataframe_hombres(n, preferencias_hombres)\n",
        "  women_available = {man:women_list for man in man_list}\n",
        "  waiting_list = []\n",
        "  proposals = {}\n",
        "  count = 0\n",
        "  while len(waiting_list)<len(man_list):\n",
        "      for man in man_list:\n",
        "          if man not in waiting_list:\n",
        "              women = women_available[man]\n",
        "              \n",
        "              best_choice = man_df.loc[man][man_df.loc[man].index.isin(women)].idxmin()\n",
        "              proposals[(man, best_choice)]=(man_df.loc[man][best_choice],\n",
        "                                                  women_df.loc[man][best_choice])\n",
        "      overlays = Counter([key[1] for key in proposals.keys()])\n",
        "      for women in overlays.keys():\n",
        "          if overlays[women]>1:\n",
        "              pairs_to_drop = sorted({pair: proposals[pair] for pair in proposals.keys() \n",
        "                      if women in pair}.items(), \n",
        "                    key=lambda x: x[1][1]\n",
        "                    )[1:]\n",
        "              for p_to_drop in pairs_to_drop:\n",
        "                  del proposals[p_to_drop[0]]\n",
        "                  _women = copy(women_available[p_to_drop[0][0]])\n",
        "                  _women.remove(p_to_drop[0][1])\n",
        "                  women_available[p_to_drop[0][0]] = _women\n",
        "      waiting_list = [man[0] for man in proposals.keys()]\n",
        "      count+=1\n",
        "  return proposals, count"
      ],
      "execution_count": 6,
      "outputs": []
    },
    {
      "cell_type": "markdown",
      "metadata": {
        "id": "T4xG9dGlmEYg"
      },
      "source": [
        "## ***Cambio de notacion de lista***\n",
        "\n",
        "Esto con el fin de cambiar de una lista de preferencia a una lista de interes por persona"
      ]
    },
    {
      "cell_type": "code",
      "metadata": {
        "id": "T1fI7cfXmZaB"
      },
      "source": [
        "def pasar_notacion(lista):\n",
        "  l = len(lista)\n",
        "  respuesta =[0]*l\n",
        "  for i in range(l):\n",
        "    respuesta[lista[i]-1]= i+1\n",
        "  return respuesta\n",
        "\n",
        "\n",
        "def pasar_notaciones(listas):\n",
        "  l = len(listas)\n",
        "  for i in range(l):\n",
        "    listas[i] = pasar_notacion(listas[i])\n",
        "  return listas"
      ],
      "execution_count": 7,
      "outputs": []
    },
    {
      "cell_type": "markdown",
      "metadata": {
        "id": "OdgVKfi6mkKD"
      },
      "source": [
        "## ***Algortimo Gale-Shapley para listas de preferencia***"
      ]
    },
    {
      "cell_type": "code",
      "metadata": {
        "id": "0V0LNyMQpQXC"
      },
      "source": [
        "def Gale_Shapley_match_preference_lists(n, preferencias_mujeres, preferencias_hombres):\n",
        "\n",
        "  pm = pasar_notaciones(preferencias_mujeres) \n",
        "  ph = pasar_notaciones(preferencias_hombres)\n",
        "  p,c = gale_shapley(n, pm, ph)\n",
        "  return p,c"
      ],
      "execution_count": 8,
      "outputs": []
    },
    {
      "cell_type": "markdown",
      "metadata": {
        "id": "Os21vyZvOLKN"
      },
      "source": [
        "## ***Peor caso***\n",
        "Worst Case scenario\n",
        "\n",
        "https://stackoverflow.com/questions/36381702/worst-case-for-stable-matchings para encontrar el peor escenario se tiene que recorrer todas las opciones posibles hasta llegar al matrimonio estable\n",
        "\n",
        "### ***Funcion para obtener las listas de preferencia de las mujeres en un peor caso***"
      ]
    },
    {
      "cell_type": "code",
      "metadata": {
        "id": "z2BTTsrPuHXp"
      },
      "source": [
        "def obtener_lista_1_a_n(n):\n",
        "  return list(range(1,n+1))\n",
        "\n",
        "\n",
        "def obtener_lista_i_a_n(i,n):\n",
        "  return list(range(i,n+1))\n",
        "\n",
        "def peor_caso_hombres(n):\n",
        "  matriz =[]\n",
        "  for i in range(1,n+1):\n",
        "    corte1 = obtener_lista_i_a_n(i,n-1)\n",
        "    #print(corte1)\n",
        "    corte2 = obtener_lista_1_a_n(i-1)+ [n]\n",
        "    #print(corte2)\n",
        "    fila = corte1 + corte2\n",
        "    matriz.append(fila)\n",
        "  return matriz\n",
        "\n",
        "\n",
        "\n",
        "def peor_caso_mujeres(n):\n",
        "  matriz =[]\n",
        "  for i in range(1,n+1):\n",
        "    corte1 = obtener_lista_i_a_n(i+1,n)\n",
        "    #print(corte1)\n",
        "    corte2 = obtener_lista_1_a_n(i)\n",
        "    #print(corte2)\n",
        "    fila = corte1 + corte2\n",
        "    matriz.append(fila)\n",
        "\n",
        "  #matriz[1] = matriz[0][0:3]+[n]\n",
        "  \n",
        "  return matriz"
      ],
      "execution_count": 9,
      "outputs": []
    },
    {
      "cell_type": "markdown",
      "metadata": {
        "id": "PbrB9Qs1uYEQ"
      },
      "source": [
        "### **Funcion para correr el algoritmo Gale-Shapley para n usando un peor caso**"
      ]
    },
    {
      "cell_type": "code",
      "metadata": {
        "id": "-WNs8l9MucB4"
      },
      "source": [
        "def matching_peor_caso_Gale_Shapley(n):\n",
        "\n",
        "  MP_M = peor_caso_mujeres(n)\n",
        "  MP_H = peor_caso_hombres(n)  \n",
        "  \"\"\"\n",
        "  for fila in MP_M:\n",
        "    print(*fila)\n",
        "  print()\n",
        "\n",
        "  for fila in MP_H:\n",
        "    print(*fila)\n",
        "  print()\n",
        "  \"\"\"\n",
        "  parejas, iteraciones = Gale_Shapley_match_preference_lists(n, MP_M, MP_H)\n",
        "  return parejas, iteraciones"
      ],
      "execution_count": 10,
      "outputs": []
    },
    {
      "cell_type": "markdown",
      "metadata": {
        "id": "zslwhAbquBGv"
      },
      "source": [
        "**n=4**"
      ]
    },
    {
      "cell_type": "code",
      "metadata": {
        "colab": {
          "base_uri": "https://localhost:8080/"
        },
        "id": "oJZMbQncrllO",
        "outputId": "32d27838-5365-4940-dd63-33064ce45240"
      },
      "source": [
        "phom = [[1,2,3,4],\n",
        "        [2,3,1,4],\n",
        "        [3,1,2,4],\n",
        "        [1,2,3,4]]\n",
        "\n",
        "pmuj = [[2,3,4,1],\n",
        "        [3,4,1,2],\n",
        "        [4,1,2,3],\n",
        "        [1,2,3,4]]\n",
        "\n",
        "\n",
        "parejas, iteraciones = Gale_Shapley_match_preference_lists(4,pmuj,phom)\n",
        "print(\"Numero de iteraciones peor caso para n=4: \", iteraciones)\n",
        "print(\"\\nEmparejamiento estable para el peor caso con n=4\")\n",
        "parejas"
      ],
      "execution_count": 11,
      "outputs": [
        {
          "output_type": "stream",
          "text": [
            "Numero de iteraciones peor caso para n=4:  10\n",
            "\n",
            "Emparejamiento estable para el peor caso con n=4\n"
          ],
          "name": "stdout"
        },
        {
          "output_type": "execute_result",
          "data": {
            "text/plain": [
              "{('H1', 'M4'): (4, 1),\n",
              " ('H2', 'M1'): (3, 1),\n",
              " ('H3', 'M2'): (3, 1),\n",
              " ('H4', 'M3'): (3, 1)}"
            ]
          },
          "metadata": {
            "tags": []
          },
          "execution_count": 11
        }
      ]
    },
    {
      "cell_type": "markdown",
      "metadata": {
        "id": "DyTrRTTpulfQ"
      },
      "source": [
        "***n=40***"
      ]
    },
    {
      "cell_type": "code",
      "metadata": {
        "colab": {
          "base_uri": "https://localhost:8080/"
        },
        "id": "aEuhwZ_BuoHf",
        "outputId": "677a1f2b-7a8f-4c83-a2c7-55cbcbc1a459"
      },
      "source": [
        "matches, iterations = matching_peor_caso_Gale_Shapley(40)\n",
        "print(\"Iteraciones para hallar el peor caso con n=40: \",iterations)\n",
        "\n",
        "print(\"\\n\\n\\n\\nListas de preferencia de los hombres\\n\")\n",
        "ch = 1\n",
        "\n",
        "MPM = peor_caso_mujeres(40)\n",
        "MPH = peor_caso_hombres(40)\n",
        "\n",
        "for fila in MPH:\n",
        "    label = 'H'+str(ch)+':   '\n",
        "    print(label,*fila)\n",
        "    ch = ch +1\n",
        "\n",
        "print(\"\\n\\nListas de preferencia de las mujeres\\n\")\n",
        "cm = 1\n",
        "for fila in MPM:\n",
        "    label = 'M'+str(cm)+':   '\n",
        "    print(label,*fila)\n",
        "    cm = cm +1\n",
        "\n",
        "print(\"\\n\\n\\n\\n\\nEmparejamiento estable y preferencia lograda de cada persona a su pareja\\n\")\n",
        "matches"
      ],
      "execution_count": 12,
      "outputs": [
        {
          "output_type": "stream",
          "text": [
            "Iteraciones para hallar el peor caso con n=40:  1522\n",
            "\n",
            "\n",
            "\n",
            "\n",
            "Listas de preferencia de los hombres\n",
            "\n",
            "H1:    1 2 3 4 5 6 7 8 9 10 11 12 13 14 15 16 17 18 19 20 21 22 23 24 25 26 27 28 29 30 31 32 33 34 35 36 37 38 39 40\n",
            "H2:    2 3 4 5 6 7 8 9 10 11 12 13 14 15 16 17 18 19 20 21 22 23 24 25 26 27 28 29 30 31 32 33 34 35 36 37 38 39 1 40\n",
            "H3:    3 4 5 6 7 8 9 10 11 12 13 14 15 16 17 18 19 20 21 22 23 24 25 26 27 28 29 30 31 32 33 34 35 36 37 38 39 1 2 40\n",
            "H4:    4 5 6 7 8 9 10 11 12 13 14 15 16 17 18 19 20 21 22 23 24 25 26 27 28 29 30 31 32 33 34 35 36 37 38 39 1 2 3 40\n",
            "H5:    5 6 7 8 9 10 11 12 13 14 15 16 17 18 19 20 21 22 23 24 25 26 27 28 29 30 31 32 33 34 35 36 37 38 39 1 2 3 4 40\n",
            "H6:    6 7 8 9 10 11 12 13 14 15 16 17 18 19 20 21 22 23 24 25 26 27 28 29 30 31 32 33 34 35 36 37 38 39 1 2 3 4 5 40\n",
            "H7:    7 8 9 10 11 12 13 14 15 16 17 18 19 20 21 22 23 24 25 26 27 28 29 30 31 32 33 34 35 36 37 38 39 1 2 3 4 5 6 40\n",
            "H8:    8 9 10 11 12 13 14 15 16 17 18 19 20 21 22 23 24 25 26 27 28 29 30 31 32 33 34 35 36 37 38 39 1 2 3 4 5 6 7 40\n",
            "H9:    9 10 11 12 13 14 15 16 17 18 19 20 21 22 23 24 25 26 27 28 29 30 31 32 33 34 35 36 37 38 39 1 2 3 4 5 6 7 8 40\n",
            "H10:    10 11 12 13 14 15 16 17 18 19 20 21 22 23 24 25 26 27 28 29 30 31 32 33 34 35 36 37 38 39 1 2 3 4 5 6 7 8 9 40\n",
            "H11:    11 12 13 14 15 16 17 18 19 20 21 22 23 24 25 26 27 28 29 30 31 32 33 34 35 36 37 38 39 1 2 3 4 5 6 7 8 9 10 40\n",
            "H12:    12 13 14 15 16 17 18 19 20 21 22 23 24 25 26 27 28 29 30 31 32 33 34 35 36 37 38 39 1 2 3 4 5 6 7 8 9 10 11 40\n",
            "H13:    13 14 15 16 17 18 19 20 21 22 23 24 25 26 27 28 29 30 31 32 33 34 35 36 37 38 39 1 2 3 4 5 6 7 8 9 10 11 12 40\n",
            "H14:    14 15 16 17 18 19 20 21 22 23 24 25 26 27 28 29 30 31 32 33 34 35 36 37 38 39 1 2 3 4 5 6 7 8 9 10 11 12 13 40\n",
            "H15:    15 16 17 18 19 20 21 22 23 24 25 26 27 28 29 30 31 32 33 34 35 36 37 38 39 1 2 3 4 5 6 7 8 9 10 11 12 13 14 40\n",
            "H16:    16 17 18 19 20 21 22 23 24 25 26 27 28 29 30 31 32 33 34 35 36 37 38 39 1 2 3 4 5 6 7 8 9 10 11 12 13 14 15 40\n",
            "H17:    17 18 19 20 21 22 23 24 25 26 27 28 29 30 31 32 33 34 35 36 37 38 39 1 2 3 4 5 6 7 8 9 10 11 12 13 14 15 16 40\n",
            "H18:    18 19 20 21 22 23 24 25 26 27 28 29 30 31 32 33 34 35 36 37 38 39 1 2 3 4 5 6 7 8 9 10 11 12 13 14 15 16 17 40\n",
            "H19:    19 20 21 22 23 24 25 26 27 28 29 30 31 32 33 34 35 36 37 38 39 1 2 3 4 5 6 7 8 9 10 11 12 13 14 15 16 17 18 40\n",
            "H20:    20 21 22 23 24 25 26 27 28 29 30 31 32 33 34 35 36 37 38 39 1 2 3 4 5 6 7 8 9 10 11 12 13 14 15 16 17 18 19 40\n",
            "H21:    21 22 23 24 25 26 27 28 29 30 31 32 33 34 35 36 37 38 39 1 2 3 4 5 6 7 8 9 10 11 12 13 14 15 16 17 18 19 20 40\n",
            "H22:    22 23 24 25 26 27 28 29 30 31 32 33 34 35 36 37 38 39 1 2 3 4 5 6 7 8 9 10 11 12 13 14 15 16 17 18 19 20 21 40\n",
            "H23:    23 24 25 26 27 28 29 30 31 32 33 34 35 36 37 38 39 1 2 3 4 5 6 7 8 9 10 11 12 13 14 15 16 17 18 19 20 21 22 40\n",
            "H24:    24 25 26 27 28 29 30 31 32 33 34 35 36 37 38 39 1 2 3 4 5 6 7 8 9 10 11 12 13 14 15 16 17 18 19 20 21 22 23 40\n",
            "H25:    25 26 27 28 29 30 31 32 33 34 35 36 37 38 39 1 2 3 4 5 6 7 8 9 10 11 12 13 14 15 16 17 18 19 20 21 22 23 24 40\n",
            "H26:    26 27 28 29 30 31 32 33 34 35 36 37 38 39 1 2 3 4 5 6 7 8 9 10 11 12 13 14 15 16 17 18 19 20 21 22 23 24 25 40\n",
            "H27:    27 28 29 30 31 32 33 34 35 36 37 38 39 1 2 3 4 5 6 7 8 9 10 11 12 13 14 15 16 17 18 19 20 21 22 23 24 25 26 40\n",
            "H28:    28 29 30 31 32 33 34 35 36 37 38 39 1 2 3 4 5 6 7 8 9 10 11 12 13 14 15 16 17 18 19 20 21 22 23 24 25 26 27 40\n",
            "H29:    29 30 31 32 33 34 35 36 37 38 39 1 2 3 4 5 6 7 8 9 10 11 12 13 14 15 16 17 18 19 20 21 22 23 24 25 26 27 28 40\n",
            "H30:    30 31 32 33 34 35 36 37 38 39 1 2 3 4 5 6 7 8 9 10 11 12 13 14 15 16 17 18 19 20 21 22 23 24 25 26 27 28 29 40\n",
            "H31:    31 32 33 34 35 36 37 38 39 1 2 3 4 5 6 7 8 9 10 11 12 13 14 15 16 17 18 19 20 21 22 23 24 25 26 27 28 29 30 40\n",
            "H32:    32 33 34 35 36 37 38 39 1 2 3 4 5 6 7 8 9 10 11 12 13 14 15 16 17 18 19 20 21 22 23 24 25 26 27 28 29 30 31 40\n",
            "H33:    33 34 35 36 37 38 39 1 2 3 4 5 6 7 8 9 10 11 12 13 14 15 16 17 18 19 20 21 22 23 24 25 26 27 28 29 30 31 32 40\n",
            "H34:    34 35 36 37 38 39 1 2 3 4 5 6 7 8 9 10 11 12 13 14 15 16 17 18 19 20 21 22 23 24 25 26 27 28 29 30 31 32 33 40\n",
            "H35:    35 36 37 38 39 1 2 3 4 5 6 7 8 9 10 11 12 13 14 15 16 17 18 19 20 21 22 23 24 25 26 27 28 29 30 31 32 33 34 40\n",
            "H36:    36 37 38 39 1 2 3 4 5 6 7 8 9 10 11 12 13 14 15 16 17 18 19 20 21 22 23 24 25 26 27 28 29 30 31 32 33 34 35 40\n",
            "H37:    37 38 39 1 2 3 4 5 6 7 8 9 10 11 12 13 14 15 16 17 18 19 20 21 22 23 24 25 26 27 28 29 30 31 32 33 34 35 36 40\n",
            "H38:    38 39 1 2 3 4 5 6 7 8 9 10 11 12 13 14 15 16 17 18 19 20 21 22 23 24 25 26 27 28 29 30 31 32 33 34 35 36 37 40\n",
            "H39:    39 1 2 3 4 5 6 7 8 9 10 11 12 13 14 15 16 17 18 19 20 21 22 23 24 25 26 27 28 29 30 31 32 33 34 35 36 37 38 40\n",
            "H40:    1 2 3 4 5 6 7 8 9 10 11 12 13 14 15 16 17 18 19 20 21 22 23 24 25 26 27 28 29 30 31 32 33 34 35 36 37 38 39 40\n",
            "\n",
            "\n",
            "Listas de preferencia de las mujeres\n",
            "\n",
            "M1:    2 3 4 5 6 7 8 9 10 11 12 13 14 15 16 17 18 19 20 21 22 23 24 25 26 27 28 29 30 31 32 33 34 35 36 37 38 39 40 1\n",
            "M2:    3 4 5 6 7 8 9 10 11 12 13 14 15 16 17 18 19 20 21 22 23 24 25 26 27 28 29 30 31 32 33 34 35 36 37 38 39 40 1 2\n",
            "M3:    4 5 6 7 8 9 10 11 12 13 14 15 16 17 18 19 20 21 22 23 24 25 26 27 28 29 30 31 32 33 34 35 36 37 38 39 40 1 2 3\n",
            "M4:    5 6 7 8 9 10 11 12 13 14 15 16 17 18 19 20 21 22 23 24 25 26 27 28 29 30 31 32 33 34 35 36 37 38 39 40 1 2 3 4\n",
            "M5:    6 7 8 9 10 11 12 13 14 15 16 17 18 19 20 21 22 23 24 25 26 27 28 29 30 31 32 33 34 35 36 37 38 39 40 1 2 3 4 5\n",
            "M6:    7 8 9 10 11 12 13 14 15 16 17 18 19 20 21 22 23 24 25 26 27 28 29 30 31 32 33 34 35 36 37 38 39 40 1 2 3 4 5 6\n",
            "M7:    8 9 10 11 12 13 14 15 16 17 18 19 20 21 22 23 24 25 26 27 28 29 30 31 32 33 34 35 36 37 38 39 40 1 2 3 4 5 6 7\n",
            "M8:    9 10 11 12 13 14 15 16 17 18 19 20 21 22 23 24 25 26 27 28 29 30 31 32 33 34 35 36 37 38 39 40 1 2 3 4 5 6 7 8\n",
            "M9:    10 11 12 13 14 15 16 17 18 19 20 21 22 23 24 25 26 27 28 29 30 31 32 33 34 35 36 37 38 39 40 1 2 3 4 5 6 7 8 9\n",
            "M10:    11 12 13 14 15 16 17 18 19 20 21 22 23 24 25 26 27 28 29 30 31 32 33 34 35 36 37 38 39 40 1 2 3 4 5 6 7 8 9 10\n",
            "M11:    12 13 14 15 16 17 18 19 20 21 22 23 24 25 26 27 28 29 30 31 32 33 34 35 36 37 38 39 40 1 2 3 4 5 6 7 8 9 10 11\n",
            "M12:    13 14 15 16 17 18 19 20 21 22 23 24 25 26 27 28 29 30 31 32 33 34 35 36 37 38 39 40 1 2 3 4 5 6 7 8 9 10 11 12\n",
            "M13:    14 15 16 17 18 19 20 21 22 23 24 25 26 27 28 29 30 31 32 33 34 35 36 37 38 39 40 1 2 3 4 5 6 7 8 9 10 11 12 13\n",
            "M14:    15 16 17 18 19 20 21 22 23 24 25 26 27 28 29 30 31 32 33 34 35 36 37 38 39 40 1 2 3 4 5 6 7 8 9 10 11 12 13 14\n",
            "M15:    16 17 18 19 20 21 22 23 24 25 26 27 28 29 30 31 32 33 34 35 36 37 38 39 40 1 2 3 4 5 6 7 8 9 10 11 12 13 14 15\n",
            "M16:    17 18 19 20 21 22 23 24 25 26 27 28 29 30 31 32 33 34 35 36 37 38 39 40 1 2 3 4 5 6 7 8 9 10 11 12 13 14 15 16\n",
            "M17:    18 19 20 21 22 23 24 25 26 27 28 29 30 31 32 33 34 35 36 37 38 39 40 1 2 3 4 5 6 7 8 9 10 11 12 13 14 15 16 17\n",
            "M18:    19 20 21 22 23 24 25 26 27 28 29 30 31 32 33 34 35 36 37 38 39 40 1 2 3 4 5 6 7 8 9 10 11 12 13 14 15 16 17 18\n",
            "M19:    20 21 22 23 24 25 26 27 28 29 30 31 32 33 34 35 36 37 38 39 40 1 2 3 4 5 6 7 8 9 10 11 12 13 14 15 16 17 18 19\n",
            "M20:    21 22 23 24 25 26 27 28 29 30 31 32 33 34 35 36 37 38 39 40 1 2 3 4 5 6 7 8 9 10 11 12 13 14 15 16 17 18 19 20\n",
            "M21:    22 23 24 25 26 27 28 29 30 31 32 33 34 35 36 37 38 39 40 1 2 3 4 5 6 7 8 9 10 11 12 13 14 15 16 17 18 19 20 21\n",
            "M22:    23 24 25 26 27 28 29 30 31 32 33 34 35 36 37 38 39 40 1 2 3 4 5 6 7 8 9 10 11 12 13 14 15 16 17 18 19 20 21 22\n",
            "M23:    24 25 26 27 28 29 30 31 32 33 34 35 36 37 38 39 40 1 2 3 4 5 6 7 8 9 10 11 12 13 14 15 16 17 18 19 20 21 22 23\n",
            "M24:    25 26 27 28 29 30 31 32 33 34 35 36 37 38 39 40 1 2 3 4 5 6 7 8 9 10 11 12 13 14 15 16 17 18 19 20 21 22 23 24\n",
            "M25:    26 27 28 29 30 31 32 33 34 35 36 37 38 39 40 1 2 3 4 5 6 7 8 9 10 11 12 13 14 15 16 17 18 19 20 21 22 23 24 25\n",
            "M26:    27 28 29 30 31 32 33 34 35 36 37 38 39 40 1 2 3 4 5 6 7 8 9 10 11 12 13 14 15 16 17 18 19 20 21 22 23 24 25 26\n",
            "M27:    28 29 30 31 32 33 34 35 36 37 38 39 40 1 2 3 4 5 6 7 8 9 10 11 12 13 14 15 16 17 18 19 20 21 22 23 24 25 26 27\n",
            "M28:    29 30 31 32 33 34 35 36 37 38 39 40 1 2 3 4 5 6 7 8 9 10 11 12 13 14 15 16 17 18 19 20 21 22 23 24 25 26 27 28\n",
            "M29:    30 31 32 33 34 35 36 37 38 39 40 1 2 3 4 5 6 7 8 9 10 11 12 13 14 15 16 17 18 19 20 21 22 23 24 25 26 27 28 29\n",
            "M30:    31 32 33 34 35 36 37 38 39 40 1 2 3 4 5 6 7 8 9 10 11 12 13 14 15 16 17 18 19 20 21 22 23 24 25 26 27 28 29 30\n",
            "M31:    32 33 34 35 36 37 38 39 40 1 2 3 4 5 6 7 8 9 10 11 12 13 14 15 16 17 18 19 20 21 22 23 24 25 26 27 28 29 30 31\n",
            "M32:    33 34 35 36 37 38 39 40 1 2 3 4 5 6 7 8 9 10 11 12 13 14 15 16 17 18 19 20 21 22 23 24 25 26 27 28 29 30 31 32\n",
            "M33:    34 35 36 37 38 39 40 1 2 3 4 5 6 7 8 9 10 11 12 13 14 15 16 17 18 19 20 21 22 23 24 25 26 27 28 29 30 31 32 33\n",
            "M34:    35 36 37 38 39 40 1 2 3 4 5 6 7 8 9 10 11 12 13 14 15 16 17 18 19 20 21 22 23 24 25 26 27 28 29 30 31 32 33 34\n",
            "M35:    36 37 38 39 40 1 2 3 4 5 6 7 8 9 10 11 12 13 14 15 16 17 18 19 20 21 22 23 24 25 26 27 28 29 30 31 32 33 34 35\n",
            "M36:    37 38 39 40 1 2 3 4 5 6 7 8 9 10 11 12 13 14 15 16 17 18 19 20 21 22 23 24 25 26 27 28 29 30 31 32 33 34 35 36\n",
            "M37:    38 39 40 1 2 3 4 5 6 7 8 9 10 11 12 13 14 15 16 17 18 19 20 21 22 23 24 25 26 27 28 29 30 31 32 33 34 35 36 37\n",
            "M38:    39 40 1 2 3 4 5 6 7 8 9 10 11 12 13 14 15 16 17 18 19 20 21 22 23 24 25 26 27 28 29 30 31 32 33 34 35 36 37 38\n",
            "M39:    40 1 2 3 4 5 6 7 8 9 10 11 12 13 14 15 16 17 18 19 20 21 22 23 24 25 26 27 28 29 30 31 32 33 34 35 36 37 38 39\n",
            "M40:    1 2 3 4 5 6 7 8 9 10 11 12 13 14 15 16 17 18 19 20 21 22 23 24 25 26 27 28 29 30 31 32 33 34 35 36 37 38 39 40\n",
            "\n",
            "\n",
            "\n",
            "\n",
            "\n",
            "Emparejamiento estable y preferencia lograda de cada persona a su pareja\n",
            "\n"
          ],
          "name": "stdout"
        },
        {
          "output_type": "execute_result",
          "data": {
            "text/plain": [
              "{('H1', 'M40'): (40, 1),\n",
              " ('H10', 'M9'): (39, 1),\n",
              " ('H11', 'M10'): (39, 1),\n",
              " ('H12', 'M11'): (39, 1),\n",
              " ('H13', 'M12'): (39, 1),\n",
              " ('H14', 'M13'): (39, 1),\n",
              " ('H15', 'M14'): (39, 1),\n",
              " ('H16', 'M15'): (39, 1),\n",
              " ('H17', 'M16'): (39, 1),\n",
              " ('H18', 'M17'): (39, 1),\n",
              " ('H19', 'M18'): (39, 1),\n",
              " ('H2', 'M1'): (39, 1),\n",
              " ('H20', 'M19'): (39, 1),\n",
              " ('H21', 'M20'): (39, 1),\n",
              " ('H22', 'M21'): (39, 1),\n",
              " ('H23', 'M22'): (39, 1),\n",
              " ('H24', 'M23'): (39, 1),\n",
              " ('H25', 'M24'): (39, 1),\n",
              " ('H26', 'M25'): (39, 1),\n",
              " ('H27', 'M26'): (39, 1),\n",
              " ('H28', 'M27'): (39, 1),\n",
              " ('H29', 'M28'): (39, 1),\n",
              " ('H3', 'M2'): (39, 1),\n",
              " ('H30', 'M29'): (39, 1),\n",
              " ('H31', 'M30'): (39, 1),\n",
              " ('H32', 'M31'): (39, 1),\n",
              " ('H33', 'M32'): (39, 1),\n",
              " ('H34', 'M33'): (39, 1),\n",
              " ('H35', 'M34'): (39, 1),\n",
              " ('H36', 'M35'): (39, 1),\n",
              " ('H37', 'M36'): (39, 1),\n",
              " ('H38', 'M37'): (39, 1),\n",
              " ('H39', 'M38'): (39, 1),\n",
              " ('H4', 'M3'): (39, 1),\n",
              " ('H40', 'M39'): (39, 1),\n",
              " ('H5', 'M4'): (39, 1),\n",
              " ('H6', 'M5'): (39, 1),\n",
              " ('H7', 'M6'): (39, 1),\n",
              " ('H8', 'M7'): (39, 1),\n",
              " ('H9', 'M8'): (39, 1)}"
            ]
          },
          "metadata": {
            "tags": []
          },
          "execution_count": 12
        }
      ]
    },
    {
      "cell_type": "markdown",
      "metadata": {
        "id": "y_5KRgJpwLgo"
      },
      "source": [
        "## ***Mejor caso***\n",
        "\n",
        "### ***Funcion matriz mejor caso***\n",
        "Para obtener la matriz que corresponda al mejor caso se codeo la siguiente funcion"
      ]
    },
    {
      "cell_type": "code",
      "metadata": {
        "id": "PPZDJTxRwtYY"
      },
      "source": [
        "def mejor_caso(n):\n",
        "  \n",
        "  matriz =[]\n",
        "\n",
        "  #Construir n filas\n",
        "  for i in range(1,n+1):\n",
        "    corte1 = obtener_lista_i_a_n(i,n)\n",
        "    #print(corte1)\n",
        "    corte2 = obtener_lista_1_a_n(i-1)\n",
        "    #print(corte2)\n",
        "    fila = corte1 + corte2\n",
        "    matriz.append(fila)\n",
        "\n",
        "  #matriz[1] = matriz[0][0:3]+[n]\n",
        "  \n",
        "  return matriz"
      ],
      "execution_count": 13,
      "outputs": []
    },
    {
      "cell_type": "markdown",
      "metadata": {
        "id": "2SJuUAs-wx25"
      },
      "source": [
        "**n=4**"
      ]
    },
    {
      "cell_type": "code",
      "metadata": {
        "colab": {
          "base_uri": "https://localhost:8080/"
        },
        "id": "mt546dA3wz2w",
        "outputId": "b78f67dc-e76d-4322-f4fa-409a7a3842d8"
      },
      "source": [
        "mc4 = mejor_caso(4)\n",
        "\n",
        "phom = mc4\n",
        "for fila in phom:\n",
        "    print(*fila)\n",
        "print(\"\\n\\n\")\n",
        "\n",
        "pmuj = mc4\n",
        "for fila in pmuj:\n",
        "    print(*fila)\n",
        "print(\"\\n\\n\")\n",
        "\n",
        "\n",
        "parejas, iteraciones = Gale_Shapley_match_preference_lists(4,pmuj,phom)\n",
        "print(\"Iteraciones experimento: \", iteraciones)\n",
        "print(\"\\nEmparejamiento estable\")\n",
        "parejas"
      ],
      "execution_count": 14,
      "outputs": [
        {
          "output_type": "stream",
          "text": [
            "1 2 3 4\n",
            "2 3 4 1\n",
            "3 4 1 2\n",
            "4 1 2 3\n",
            "\n",
            "\n",
            "\n",
            "1 2 3 4\n",
            "2 3 4 1\n",
            "3 4 1 2\n",
            "4 1 2 3\n",
            "\n",
            "\n",
            "\n",
            "Iteraciones experimento:  1\n",
            "\n",
            "Emparejamiento estable\n"
          ],
          "name": "stdout"
        },
        {
          "output_type": "execute_result",
          "data": {
            "text/plain": [
              "{('H1', 'M1'): (1, 1),\n",
              " ('H2', 'M4'): (1, 1),\n",
              " ('H3', 'M3'): (1, 1),\n",
              " ('H4', 'M2'): (1, 1)}"
            ]
          },
          "metadata": {
            "tags": []
          },
          "execution_count": 14
        }
      ]
    },
    {
      "cell_type": "markdown",
      "metadata": {
        "id": "JVMX5e9-xKEy"
      },
      "source": [
        "**n=40**"
      ]
    },
    {
      "cell_type": "code",
      "metadata": {
        "colab": {
          "base_uri": "https://localhost:8080/"
        },
        "id": "4lZ2OD3_xMxo",
        "outputId": "95d1bf28-7d82-4eb7-8482-63d554ba795d"
      },
      "source": [
        "mc40 = mejor_caso(40)\n",
        "\n",
        "phom = mc40\n",
        "for fila in phom:\n",
        "    print(*fila)\n",
        "print(\"\\n\\n\")\n",
        "\n",
        "pmuj = mc40\n",
        "for fila in pmuj:\n",
        "    print(*fila)\n",
        "print(\"\\n\\n\")\n",
        "\n",
        "\n",
        "parejas, iteraciones = Gale_Shapley_match_preference_lists(40,pmuj,phom)\n",
        "print(\"Iteraciones experimento: \", iteraciones)\n",
        "print(\"\\nEmparejamiento estable\")\n",
        "parejas"
      ],
      "execution_count": 15,
      "outputs": [
        {
          "output_type": "stream",
          "text": [
            "1 2 3 4 5 6 7 8 9 10 11 12 13 14 15 16 17 18 19 20 21 22 23 24 25 26 27 28 29 30 31 32 33 34 35 36 37 38 39 40\n",
            "2 3 4 5 6 7 8 9 10 11 12 13 14 15 16 17 18 19 20 21 22 23 24 25 26 27 28 29 30 31 32 33 34 35 36 37 38 39 40 1\n",
            "3 4 5 6 7 8 9 10 11 12 13 14 15 16 17 18 19 20 21 22 23 24 25 26 27 28 29 30 31 32 33 34 35 36 37 38 39 40 1 2\n",
            "4 5 6 7 8 9 10 11 12 13 14 15 16 17 18 19 20 21 22 23 24 25 26 27 28 29 30 31 32 33 34 35 36 37 38 39 40 1 2 3\n",
            "5 6 7 8 9 10 11 12 13 14 15 16 17 18 19 20 21 22 23 24 25 26 27 28 29 30 31 32 33 34 35 36 37 38 39 40 1 2 3 4\n",
            "6 7 8 9 10 11 12 13 14 15 16 17 18 19 20 21 22 23 24 25 26 27 28 29 30 31 32 33 34 35 36 37 38 39 40 1 2 3 4 5\n",
            "7 8 9 10 11 12 13 14 15 16 17 18 19 20 21 22 23 24 25 26 27 28 29 30 31 32 33 34 35 36 37 38 39 40 1 2 3 4 5 6\n",
            "8 9 10 11 12 13 14 15 16 17 18 19 20 21 22 23 24 25 26 27 28 29 30 31 32 33 34 35 36 37 38 39 40 1 2 3 4 5 6 7\n",
            "9 10 11 12 13 14 15 16 17 18 19 20 21 22 23 24 25 26 27 28 29 30 31 32 33 34 35 36 37 38 39 40 1 2 3 4 5 6 7 8\n",
            "10 11 12 13 14 15 16 17 18 19 20 21 22 23 24 25 26 27 28 29 30 31 32 33 34 35 36 37 38 39 40 1 2 3 4 5 6 7 8 9\n",
            "11 12 13 14 15 16 17 18 19 20 21 22 23 24 25 26 27 28 29 30 31 32 33 34 35 36 37 38 39 40 1 2 3 4 5 6 7 8 9 10\n",
            "12 13 14 15 16 17 18 19 20 21 22 23 24 25 26 27 28 29 30 31 32 33 34 35 36 37 38 39 40 1 2 3 4 5 6 7 8 9 10 11\n",
            "13 14 15 16 17 18 19 20 21 22 23 24 25 26 27 28 29 30 31 32 33 34 35 36 37 38 39 40 1 2 3 4 5 6 7 8 9 10 11 12\n",
            "14 15 16 17 18 19 20 21 22 23 24 25 26 27 28 29 30 31 32 33 34 35 36 37 38 39 40 1 2 3 4 5 6 7 8 9 10 11 12 13\n",
            "15 16 17 18 19 20 21 22 23 24 25 26 27 28 29 30 31 32 33 34 35 36 37 38 39 40 1 2 3 4 5 6 7 8 9 10 11 12 13 14\n",
            "16 17 18 19 20 21 22 23 24 25 26 27 28 29 30 31 32 33 34 35 36 37 38 39 40 1 2 3 4 5 6 7 8 9 10 11 12 13 14 15\n",
            "17 18 19 20 21 22 23 24 25 26 27 28 29 30 31 32 33 34 35 36 37 38 39 40 1 2 3 4 5 6 7 8 9 10 11 12 13 14 15 16\n",
            "18 19 20 21 22 23 24 25 26 27 28 29 30 31 32 33 34 35 36 37 38 39 40 1 2 3 4 5 6 7 8 9 10 11 12 13 14 15 16 17\n",
            "19 20 21 22 23 24 25 26 27 28 29 30 31 32 33 34 35 36 37 38 39 40 1 2 3 4 5 6 7 8 9 10 11 12 13 14 15 16 17 18\n",
            "20 21 22 23 24 25 26 27 28 29 30 31 32 33 34 35 36 37 38 39 40 1 2 3 4 5 6 7 8 9 10 11 12 13 14 15 16 17 18 19\n",
            "21 22 23 24 25 26 27 28 29 30 31 32 33 34 35 36 37 38 39 40 1 2 3 4 5 6 7 8 9 10 11 12 13 14 15 16 17 18 19 20\n",
            "22 23 24 25 26 27 28 29 30 31 32 33 34 35 36 37 38 39 40 1 2 3 4 5 6 7 8 9 10 11 12 13 14 15 16 17 18 19 20 21\n",
            "23 24 25 26 27 28 29 30 31 32 33 34 35 36 37 38 39 40 1 2 3 4 5 6 7 8 9 10 11 12 13 14 15 16 17 18 19 20 21 22\n",
            "24 25 26 27 28 29 30 31 32 33 34 35 36 37 38 39 40 1 2 3 4 5 6 7 8 9 10 11 12 13 14 15 16 17 18 19 20 21 22 23\n",
            "25 26 27 28 29 30 31 32 33 34 35 36 37 38 39 40 1 2 3 4 5 6 7 8 9 10 11 12 13 14 15 16 17 18 19 20 21 22 23 24\n",
            "26 27 28 29 30 31 32 33 34 35 36 37 38 39 40 1 2 3 4 5 6 7 8 9 10 11 12 13 14 15 16 17 18 19 20 21 22 23 24 25\n",
            "27 28 29 30 31 32 33 34 35 36 37 38 39 40 1 2 3 4 5 6 7 8 9 10 11 12 13 14 15 16 17 18 19 20 21 22 23 24 25 26\n",
            "28 29 30 31 32 33 34 35 36 37 38 39 40 1 2 3 4 5 6 7 8 9 10 11 12 13 14 15 16 17 18 19 20 21 22 23 24 25 26 27\n",
            "29 30 31 32 33 34 35 36 37 38 39 40 1 2 3 4 5 6 7 8 9 10 11 12 13 14 15 16 17 18 19 20 21 22 23 24 25 26 27 28\n",
            "30 31 32 33 34 35 36 37 38 39 40 1 2 3 4 5 6 7 8 9 10 11 12 13 14 15 16 17 18 19 20 21 22 23 24 25 26 27 28 29\n",
            "31 32 33 34 35 36 37 38 39 40 1 2 3 4 5 6 7 8 9 10 11 12 13 14 15 16 17 18 19 20 21 22 23 24 25 26 27 28 29 30\n",
            "32 33 34 35 36 37 38 39 40 1 2 3 4 5 6 7 8 9 10 11 12 13 14 15 16 17 18 19 20 21 22 23 24 25 26 27 28 29 30 31\n",
            "33 34 35 36 37 38 39 40 1 2 3 4 5 6 7 8 9 10 11 12 13 14 15 16 17 18 19 20 21 22 23 24 25 26 27 28 29 30 31 32\n",
            "34 35 36 37 38 39 40 1 2 3 4 5 6 7 8 9 10 11 12 13 14 15 16 17 18 19 20 21 22 23 24 25 26 27 28 29 30 31 32 33\n",
            "35 36 37 38 39 40 1 2 3 4 5 6 7 8 9 10 11 12 13 14 15 16 17 18 19 20 21 22 23 24 25 26 27 28 29 30 31 32 33 34\n",
            "36 37 38 39 40 1 2 3 4 5 6 7 8 9 10 11 12 13 14 15 16 17 18 19 20 21 22 23 24 25 26 27 28 29 30 31 32 33 34 35\n",
            "37 38 39 40 1 2 3 4 5 6 7 8 9 10 11 12 13 14 15 16 17 18 19 20 21 22 23 24 25 26 27 28 29 30 31 32 33 34 35 36\n",
            "38 39 40 1 2 3 4 5 6 7 8 9 10 11 12 13 14 15 16 17 18 19 20 21 22 23 24 25 26 27 28 29 30 31 32 33 34 35 36 37\n",
            "39 40 1 2 3 4 5 6 7 8 9 10 11 12 13 14 15 16 17 18 19 20 21 22 23 24 25 26 27 28 29 30 31 32 33 34 35 36 37 38\n",
            "40 1 2 3 4 5 6 7 8 9 10 11 12 13 14 15 16 17 18 19 20 21 22 23 24 25 26 27 28 29 30 31 32 33 34 35 36 37 38 39\n",
            "\n",
            "\n",
            "\n",
            "1 2 3 4 5 6 7 8 9 10 11 12 13 14 15 16 17 18 19 20 21 22 23 24 25 26 27 28 29 30 31 32 33 34 35 36 37 38 39 40\n",
            "2 3 4 5 6 7 8 9 10 11 12 13 14 15 16 17 18 19 20 21 22 23 24 25 26 27 28 29 30 31 32 33 34 35 36 37 38 39 40 1\n",
            "3 4 5 6 7 8 9 10 11 12 13 14 15 16 17 18 19 20 21 22 23 24 25 26 27 28 29 30 31 32 33 34 35 36 37 38 39 40 1 2\n",
            "4 5 6 7 8 9 10 11 12 13 14 15 16 17 18 19 20 21 22 23 24 25 26 27 28 29 30 31 32 33 34 35 36 37 38 39 40 1 2 3\n",
            "5 6 7 8 9 10 11 12 13 14 15 16 17 18 19 20 21 22 23 24 25 26 27 28 29 30 31 32 33 34 35 36 37 38 39 40 1 2 3 4\n",
            "6 7 8 9 10 11 12 13 14 15 16 17 18 19 20 21 22 23 24 25 26 27 28 29 30 31 32 33 34 35 36 37 38 39 40 1 2 3 4 5\n",
            "7 8 9 10 11 12 13 14 15 16 17 18 19 20 21 22 23 24 25 26 27 28 29 30 31 32 33 34 35 36 37 38 39 40 1 2 3 4 5 6\n",
            "8 9 10 11 12 13 14 15 16 17 18 19 20 21 22 23 24 25 26 27 28 29 30 31 32 33 34 35 36 37 38 39 40 1 2 3 4 5 6 7\n",
            "9 10 11 12 13 14 15 16 17 18 19 20 21 22 23 24 25 26 27 28 29 30 31 32 33 34 35 36 37 38 39 40 1 2 3 4 5 6 7 8\n",
            "10 11 12 13 14 15 16 17 18 19 20 21 22 23 24 25 26 27 28 29 30 31 32 33 34 35 36 37 38 39 40 1 2 3 4 5 6 7 8 9\n",
            "11 12 13 14 15 16 17 18 19 20 21 22 23 24 25 26 27 28 29 30 31 32 33 34 35 36 37 38 39 40 1 2 3 4 5 6 7 8 9 10\n",
            "12 13 14 15 16 17 18 19 20 21 22 23 24 25 26 27 28 29 30 31 32 33 34 35 36 37 38 39 40 1 2 3 4 5 6 7 8 9 10 11\n",
            "13 14 15 16 17 18 19 20 21 22 23 24 25 26 27 28 29 30 31 32 33 34 35 36 37 38 39 40 1 2 3 4 5 6 7 8 9 10 11 12\n",
            "14 15 16 17 18 19 20 21 22 23 24 25 26 27 28 29 30 31 32 33 34 35 36 37 38 39 40 1 2 3 4 5 6 7 8 9 10 11 12 13\n",
            "15 16 17 18 19 20 21 22 23 24 25 26 27 28 29 30 31 32 33 34 35 36 37 38 39 40 1 2 3 4 5 6 7 8 9 10 11 12 13 14\n",
            "16 17 18 19 20 21 22 23 24 25 26 27 28 29 30 31 32 33 34 35 36 37 38 39 40 1 2 3 4 5 6 7 8 9 10 11 12 13 14 15\n",
            "17 18 19 20 21 22 23 24 25 26 27 28 29 30 31 32 33 34 35 36 37 38 39 40 1 2 3 4 5 6 7 8 9 10 11 12 13 14 15 16\n",
            "18 19 20 21 22 23 24 25 26 27 28 29 30 31 32 33 34 35 36 37 38 39 40 1 2 3 4 5 6 7 8 9 10 11 12 13 14 15 16 17\n",
            "19 20 21 22 23 24 25 26 27 28 29 30 31 32 33 34 35 36 37 38 39 40 1 2 3 4 5 6 7 8 9 10 11 12 13 14 15 16 17 18\n",
            "20 21 22 23 24 25 26 27 28 29 30 31 32 33 34 35 36 37 38 39 40 1 2 3 4 5 6 7 8 9 10 11 12 13 14 15 16 17 18 19\n",
            "21 22 23 24 25 26 27 28 29 30 31 32 33 34 35 36 37 38 39 40 1 2 3 4 5 6 7 8 9 10 11 12 13 14 15 16 17 18 19 20\n",
            "22 23 24 25 26 27 28 29 30 31 32 33 34 35 36 37 38 39 40 1 2 3 4 5 6 7 8 9 10 11 12 13 14 15 16 17 18 19 20 21\n",
            "23 24 25 26 27 28 29 30 31 32 33 34 35 36 37 38 39 40 1 2 3 4 5 6 7 8 9 10 11 12 13 14 15 16 17 18 19 20 21 22\n",
            "24 25 26 27 28 29 30 31 32 33 34 35 36 37 38 39 40 1 2 3 4 5 6 7 8 9 10 11 12 13 14 15 16 17 18 19 20 21 22 23\n",
            "25 26 27 28 29 30 31 32 33 34 35 36 37 38 39 40 1 2 3 4 5 6 7 8 9 10 11 12 13 14 15 16 17 18 19 20 21 22 23 24\n",
            "26 27 28 29 30 31 32 33 34 35 36 37 38 39 40 1 2 3 4 5 6 7 8 9 10 11 12 13 14 15 16 17 18 19 20 21 22 23 24 25\n",
            "27 28 29 30 31 32 33 34 35 36 37 38 39 40 1 2 3 4 5 6 7 8 9 10 11 12 13 14 15 16 17 18 19 20 21 22 23 24 25 26\n",
            "28 29 30 31 32 33 34 35 36 37 38 39 40 1 2 3 4 5 6 7 8 9 10 11 12 13 14 15 16 17 18 19 20 21 22 23 24 25 26 27\n",
            "29 30 31 32 33 34 35 36 37 38 39 40 1 2 3 4 5 6 7 8 9 10 11 12 13 14 15 16 17 18 19 20 21 22 23 24 25 26 27 28\n",
            "30 31 32 33 34 35 36 37 38 39 40 1 2 3 4 5 6 7 8 9 10 11 12 13 14 15 16 17 18 19 20 21 22 23 24 25 26 27 28 29\n",
            "31 32 33 34 35 36 37 38 39 40 1 2 3 4 5 6 7 8 9 10 11 12 13 14 15 16 17 18 19 20 21 22 23 24 25 26 27 28 29 30\n",
            "32 33 34 35 36 37 38 39 40 1 2 3 4 5 6 7 8 9 10 11 12 13 14 15 16 17 18 19 20 21 22 23 24 25 26 27 28 29 30 31\n",
            "33 34 35 36 37 38 39 40 1 2 3 4 5 6 7 8 9 10 11 12 13 14 15 16 17 18 19 20 21 22 23 24 25 26 27 28 29 30 31 32\n",
            "34 35 36 37 38 39 40 1 2 3 4 5 6 7 8 9 10 11 12 13 14 15 16 17 18 19 20 21 22 23 24 25 26 27 28 29 30 31 32 33\n",
            "35 36 37 38 39 40 1 2 3 4 5 6 7 8 9 10 11 12 13 14 15 16 17 18 19 20 21 22 23 24 25 26 27 28 29 30 31 32 33 34\n",
            "36 37 38 39 40 1 2 3 4 5 6 7 8 9 10 11 12 13 14 15 16 17 18 19 20 21 22 23 24 25 26 27 28 29 30 31 32 33 34 35\n",
            "37 38 39 40 1 2 3 4 5 6 7 8 9 10 11 12 13 14 15 16 17 18 19 20 21 22 23 24 25 26 27 28 29 30 31 32 33 34 35 36\n",
            "38 39 40 1 2 3 4 5 6 7 8 9 10 11 12 13 14 15 16 17 18 19 20 21 22 23 24 25 26 27 28 29 30 31 32 33 34 35 36 37\n",
            "39 40 1 2 3 4 5 6 7 8 9 10 11 12 13 14 15 16 17 18 19 20 21 22 23 24 25 26 27 28 29 30 31 32 33 34 35 36 37 38\n",
            "40 1 2 3 4 5 6 7 8 9 10 11 12 13 14 15 16 17 18 19 20 21 22 23 24 25 26 27 28 29 30 31 32 33 34 35 36 37 38 39\n",
            "\n",
            "\n",
            "\n",
            "Iteraciones experimento:  1\n",
            "\n",
            "Emparejamiento estable\n"
          ],
          "name": "stdout"
        },
        {
          "output_type": "execute_result",
          "data": {
            "text/plain": [
              "{('H1', 'M1'): (1, 1),\n",
              " ('H10', 'M32'): (1, 1),\n",
              " ('H11', 'M31'): (1, 1),\n",
              " ('H12', 'M30'): (1, 1),\n",
              " ('H13', 'M29'): (1, 1),\n",
              " ('H14', 'M28'): (1, 1),\n",
              " ('H15', 'M27'): (1, 1),\n",
              " ('H16', 'M26'): (1, 1),\n",
              " ('H17', 'M25'): (1, 1),\n",
              " ('H18', 'M24'): (1, 1),\n",
              " ('H19', 'M23'): (1, 1),\n",
              " ('H2', 'M40'): (1, 1),\n",
              " ('H20', 'M22'): (1, 1),\n",
              " ('H21', 'M21'): (1, 1),\n",
              " ('H22', 'M20'): (1, 1),\n",
              " ('H23', 'M19'): (1, 1),\n",
              " ('H24', 'M18'): (1, 1),\n",
              " ('H25', 'M17'): (1, 1),\n",
              " ('H26', 'M16'): (1, 1),\n",
              " ('H27', 'M15'): (1, 1),\n",
              " ('H28', 'M14'): (1, 1),\n",
              " ('H29', 'M13'): (1, 1),\n",
              " ('H3', 'M39'): (1, 1),\n",
              " ('H30', 'M12'): (1, 1),\n",
              " ('H31', 'M11'): (1, 1),\n",
              " ('H32', 'M10'): (1, 1),\n",
              " ('H33', 'M9'): (1, 1),\n",
              " ('H34', 'M8'): (1, 1),\n",
              " ('H35', 'M7'): (1, 1),\n",
              " ('H36', 'M6'): (1, 1),\n",
              " ('H37', 'M5'): (1, 1),\n",
              " ('H38', 'M4'): (1, 1),\n",
              " ('H39', 'M3'): (1, 1),\n",
              " ('H4', 'M38'): (1, 1),\n",
              " ('H40', 'M2'): (1, 1),\n",
              " ('H5', 'M37'): (1, 1),\n",
              " ('H6', 'M36'): (1, 1),\n",
              " ('H7', 'M35'): (1, 1),\n",
              " ('H8', 'M34'): (1, 1),\n",
              " ('H9', 'M33'): (1, 1)}"
            ]
          },
          "metadata": {
            "tags": []
          },
          "execution_count": 15
        }
      ]
    },
    {
      "cell_type": "markdown",
      "metadata": {
        "id": "EP_uah9Ry_3_"
      },
      "source": [
        "# ***2*** Run the Gale-Shapley Algorithm 100 times using random permutations as preference lists for n=4 and 40. Find the minimum, maximum and average number of iterations and plot the distribution of the number of iterations."
      ]
    },
    {
      "cell_type": "code",
      "metadata": {
        "id": "s4B5VXvBznjK"
      },
      "source": [
        "def gale_shapley(women_list, man_list, women_df,man_df):\n",
        "  # dict to control which women each man can make proposals\n",
        "  women_available = {man:women_list for man in man_list}\n",
        "  # waiting list of men that were able to create pair on each iteration\n",
        "  waiting_list = []\n",
        "  # dict to store created pairs\n",
        "  proposals = {}\n",
        "  # variable to count number of iterations\n",
        "  count = 0\n",
        "  # while not all men have pairs\n",
        "  while len(waiting_list)<len(man_list):\n",
        "      # man makes proposals\n",
        "      for man in man_list:\n",
        "          if man not in waiting_list:\n",
        "              # each man make proposal to the top women from it's list\n",
        "              women = women_available[man]\n",
        "              \n",
        "              best_choice = man_df.loc[man][man_df.loc[man].index.isin(women)].idxmin()\n",
        "              proposals[(man, best_choice)]=(man_df.loc[man][best_choice],\n",
        "                                                  women_df.loc[man][best_choice])\n",
        "      # if women have more than one proposals \n",
        "      # she will choose the best option\n",
        "      overlays = Counter([key[1] for key in proposals.keys()])\n",
        "      # cycle to choose the best options\n",
        "      for women in overlays.keys():\n",
        "          if overlays[women]>1:\n",
        "              # pairs to drop from proposals\n",
        "              pairs_to_drop = sorted({pair: proposals[pair] for pair in proposals.keys() \n",
        "                      if women in pair}.items(), \n",
        "                    key=lambda x: x[1][1]\n",
        "                    )[1:]\n",
        "              # if man was rejected by woman\n",
        "              # there is no pint for him to make proposal \n",
        "              # second time to the same woman\n",
        "              for p_to_drop in pairs_to_drop:\n",
        "                  del proposals[p_to_drop[0]]\n",
        "                  _women = copy(women_available[p_to_drop[0][0]])\n",
        "                  _women.remove(p_to_drop[0][1])\n",
        "                  women_available[p_to_drop[0][0]] = _women\n",
        "      # man who successfully created pairs must be added to the waiting list \n",
        "      waiting_list = [man[0] for man in proposals.keys()]\n",
        "      # update counter\n",
        "      count+=1\n",
        "  return count"
      ],
      "execution_count": 16,
      "outputs": []
    },
    {
      "cell_type": "markdown",
      "metadata": {
        "id": "YxPR2Y-O0Mbi"
      },
      "source": [
        "Se define la función `run100times(n)` que recibe como parametro el numero de parejas que se quieren formar"
      ]
    },
    {
      "cell_type": "code",
      "metadata": {
        "id": "2XALDJmJz_rW"
      },
      "source": [
        "def run100times(n):\n",
        "  women_list = myAlphabetWomen[0:n]\n",
        "  men_list = myAlphabetMen[0:n]\n",
        "  women_perms = []\n",
        "  men_perms = []\n",
        "  iterations = []\n",
        "  wdict = {}\n",
        "  mdict = {}\n",
        "  for i in range(100):\n",
        "    warr = []\n",
        "    marr = []\n",
        "    for k in range(n):\n",
        "      warr.append(np.random.permutation(n) + 1)\n",
        "      wdict[women_list[k]] = warr[k]      \n",
        "      marr.append(np.random.permutation(n) + 1)\n",
        "      mdict[women_list[k]] = warr[k]   \n",
        "    \n",
        "    women_df = pd.DataFrame(wdict)\n",
        "    women_df.index = men_list\n",
        "    \n",
        "    df = pd.DataFrame(mdict)\n",
        "    men_df = df.T\n",
        "    men_df.columns = women_list\n",
        "    men_df.index = men_list\n",
        "    iterations.append(gale_shapley(women_list, men_list, women_df,men_df))\n",
        "   \n",
        "  return iterations"
      ],
      "execution_count": 17,
      "outputs": []
    },
    {
      "cell_type": "markdown",
      "metadata": {
        "id": "W8h6TuBT0cYi"
      },
      "source": [
        "## **n=4**"
      ]
    },
    {
      "cell_type": "code",
      "metadata": {
        "colab": {
          "base_uri": "https://localhost:8080/",
          "height": 372
        },
        "id": "JhB5Mgfu0fgQ",
        "outputId": "9606221b-8a79-4dd4-cc7f-01cb73375bce"
      },
      "source": [
        "its_n4 = run100times(4)\n",
        "print(its_n4)\n",
        "print(\"Mínimo: \", min(its_n4))\n",
        "print(\"Máximo: \", max(its_n4))\n",
        "print(\"Promedio: \", sum(its_n4)/len(its_n4))\n",
        "plt.hist(its_n4,bins=[1,2,3,4,5,6,7,8,9])\n",
        "\n",
        "plt.xlabel('Numero de iteraciones')\n",
        "plt.ylabel('Frecuencia')\n",
        "plt.show()"
      ],
      "execution_count": 18,
      "outputs": [
        {
          "output_type": "stream",
          "text": [
            "[3, 2, 3, 4, 4, 2, 3, 4, 5, 2, 3, 1, 1, 2, 2, 3, 3, 4, 2, 3, 4, 2, 4, 2, 2, 3, 3, 3, 4, 2, 3, 3, 1, 2, 4, 2, 4, 3, 3, 2, 3, 3, 5, 5, 2, 1, 1, 3, 3, 2, 3, 2, 3, 3, 5, 3, 2, 2, 2, 1, 3, 4, 4, 2, 4, 3, 2, 3, 4, 2, 4, 2, 4, 3, 2, 3, 4, 2, 3, 4, 2, 4, 2, 4, 1, 3, 5, 2, 2, 3, 3, 4, 4, 4, 2, 5, 3, 2, 1, 1]\n",
            "Mínimo:  1\n",
            "Máximo:  5\n",
            "Promedio:  2.85\n"
          ],
          "name": "stdout"
        },
        {
          "output_type": "display_data",
          "data": {
            "image/png": "[encoded data removed]",
            "text/plain": [
              "<Figure size 432x288 with 1 Axes>"
            ]
          },
          "metadata": {
            "tags": [],
            "needs_background": "light"
          }
        }
      ]
    },
    {
      "cell_type": "markdown",
      "metadata": {
        "id": "0ek0ijzE0h0I"
      },
      "source": [
        "##**n=40**"
      ]
    },
    {
      "cell_type": "code",
      "metadata": {
        "colab": {
          "base_uri": "https://localhost:8080/",
          "height": 334
        },
        "id": "TuuwOfUX0koH",
        "outputId": "132794a4-ddf3-419d-9378-07f4998e3f52"
      },
      "source": [
        "y = run100times(40)\n",
        "print(\"Mínimo: \", min(y))\n",
        "print(\"Máximo: \", max(y))\n",
        "print(\"Promedio: \", sum(y)/len(y))\n",
        "plt.hist(y)\n",
        "plt.xlabel('Numero de iteraciones')\n",
        "plt.ylabel('Frecuencia')\n",
        "plt.show()"
      ],
      "execution_count": 19,
      "outputs": [
        {
          "output_type": "stream",
          "text": [
            "Mínimo:  14\n",
            "Máximo:  139\n",
            "Promedio:  50.46\n"
          ],
          "name": "stdout"
        },
        {
          "output_type": "display_data",
          "data": {
            "image/png": "[encoded data removed]",
            "text/plain": [
              "<Figure size 432x288 with 1 Axes>"
            ]
          },
          "metadata": {
            "tags": [],
            "needs_background": "light"
          }
        }
      ]
    }
  ]
}